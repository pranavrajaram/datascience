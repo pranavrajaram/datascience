{
  "nbformat": 4,
  "nbformat_minor": 0,
  "metadata": {
    "colab": {
      "name": "configure_a_nn.ipynb",
      "provenance": [],
      "include_colab_link": true
    },
    "kernelspec": {
      "name": "python3",
      "display_name": "Python 3"
    },
    "language_info": {
      "name": "python"
    }
  },
  "cells": [
    {
      "cell_type": "markdown",
      "metadata": {
        "id": "view-in-github",
        "colab_type": "text"
      },
      "source": [
        "<a href=\"https://colab.research.google.com/github/pranavrajaram/datascience/blob/main/configure_a_nn.ipynb\" target=\"_parent\"><img src=\"https://colab.research.google.com/assets/colab-badge.svg\" alt=\"Open In Colab\"/></a>"
      ]
    },
    {
      "cell_type": "code",
      "source": [
        "import numpy as np\n",
        "import torch\n",
        "import torch.nn as nn\n",
        "import torch.nn.functional as F\n",
        "\n",
        "device = torch.device('cuda' if torch.cuda.is_available() else 'cpu')\n"
      ],
      "metadata": {
        "id": "-5O1AKSxsbzV"
      },
      "execution_count": 9,
      "outputs": []
    },
    {
      "cell_type": "code",
      "execution_count": 52,
      "metadata": {
        "id": "SFADXu5XK9n4"
      },
      "outputs": [],
      "source": [
        "# configure a neural network\n",
        "\n",
        "\n",
        "class NeuralNetwork(nn.Module):\n",
        "  def __init__(self):\n",
        "    super(NeuralNetwork, self).__init__()\n",
        "    ### Define Layers\n",
        "\n",
        "    self.cc = nn.Conv2d(1,3,3)\n",
        "    self.ll = nn.Linear(2028,10)\n",
        "    \n",
        "\n",
        "  def forward(self, x):\n",
        "    ###Feed Forward\n",
        "\n",
        "    x = self.cc(x)\n",
        "    x = torch.flatten(x,1)\n",
        "    x = torch.relu(x)\n",
        "    x = self.ll(x)\n",
        "    x = torch.sqrt(abs(x))\n",
        "\n",
        "    \n",
        "    return x\n",
        "  \n",
        "# Every time you edit the neural network, you'll have to update this cell\n",
        "# Create model object\n",
        "model = NeuralNetwork().to(device)"
      ]
    },
    {
      "cell_type": "code",
      "source": [
        "# test that the forward pass works\n",
        "model(torch.rand(1,1,28,28, device=device))"
      ],
      "metadata": {
        "id": "Ve-JhQ9wLEKy",
        "colab": {
          "base_uri": "https://localhost:8080/"
        },
        "outputId": "2fcd1a48-c5ef-4c9e-d2fa-802fc4aeb287"
      },
      "execution_count": 58,
      "outputs": [
        {
          "output_type": "execute_result",
          "data": {
            "text/plain": [
              "tensor([[0.1674, 0.4543, 0.4662, 0.2258, 0.3663, 0.5404, 0.6319, 0.1262, 0.7585,\n",
              "         0.2468]], grad_fn=<SqrtBackward0>)"
            ]
          },
          "metadata": {},
          "execution_count": 58
        }
      ]
    }
  ]
}