{
  "nbformat": 4,
  "nbformat_minor": 0,
  "metadata": {
    "colab": {
      "name": "pset7.ipynb",
      "provenance": [],
      "authorship_tag": "ABX9TyNCAMvddUjpT6oqIpG99Hip",
      "include_colab_link": true
    },
    "kernelspec": {
      "name": "python3",
      "display_name": "Python 3"
    },
    "language_info": {
      "name": "python"
    }
  },
  "cells": [
    {
      "cell_type": "markdown",
      "metadata": {
        "id": "view-in-github",
        "colab_type": "text"
      },
      "source": [
        "<a href=\"https://colab.research.google.com/github/pranavrajaram/datascience/blob/main/pset7.ipynb\" target=\"_parent\"><img src=\"https://colab.research.google.com/assets/colab-badge.svg\" alt=\"Open In Colab\"/></a>"
      ]
    },
    {
      "cell_type": "code",
      "execution_count": 99,
      "metadata": {
        "colab": {
          "base_uri": "https://localhost:8080/"
        },
        "id": "64aaga1UJgP6",
        "outputId": "8c00383d-a255-46ee-94f4-15f4548b9b79"
      },
      "outputs": [
        {
          "output_type": "execute_result",
          "data": {
            "text/plain": [
              "[-11.0, 8.999999999999998]"
            ]
          },
          "metadata": {},
          "execution_count": 99
        }
      ],
      "source": [
        "\n",
        "import numpy as np\n",
        "import random\n",
        "import math\n",
        "\n",
        "# Problem 1\n",
        "def arg_max(x):\n",
        "  x = np.array(x)\n",
        "  output = np.argmax(x)\n",
        "  return output\n",
        "\n",
        "# Problem 2\n",
        "def soft_max(x):\n",
        "  x = np.array(x)\n",
        "  sm = 1/(np.sum(np.exp(x)))\n",
        "  new_arr = x*sm\n",
        "  output = np.exp(new_arr).tolist()\n",
        "  return output\n",
        "\n",
        "# Problem 3\n",
        "def select_train(a,n):\n",
        "  a = np.array(a)\n",
        "  output = []\n",
        "  for i in range(n):\n",
        "    rand = random.choice(a)\n",
        "    rand2 = random.choice(rand)\n",
        "    output.append(rand2)\n",
        "  return output\n",
        "\n",
        "# Problem 4\n",
        "def neural_net_4(w,b,xin):\n",
        "  w = np.array(w)\n",
        "  w1 = w[0][0]\n",
        "  w2 = w[0][1]\n",
        "  w3 = w[1][0]\n",
        "  w4 = w[1][1]\n",
        "\n",
        "  b1 = b[0]\n",
        "  b2 = b[1]\n",
        "\n",
        "  x1 = xin[0]\n",
        "  x2 = xin[1]\n",
        "\n",
        "  h1 = w1*x1 + w2*x2 + b1\n",
        "  h2 = w3*x1 + w4*x2 + b2\n",
        "\n",
        "  y = 2.9*h1 + 1.2*h2\n",
        "  return y\n",
        "\n",
        "# Problem 5\n",
        "def neural_net(wa,ba,xin):\n",
        "  wa = np.array(wa)\n",
        "  ba = np.array(ba)\n",
        "\n",
        "  w1 = wa[0][0][0]\n",
        "  w2 = wa[0][0][1]\n",
        "  w3 = wa[0][1][0]\n",
        "  w4 = wa[0][1][1]\n",
        "\n",
        "  w5 = wa[1][0][0]\n",
        "  w6 = wa[1][0][1]\n",
        "  w7 = wa[1][1][0]\n",
        "  w8 = wa[1][1][1]\n",
        "\n",
        "  w9 = wa[2][0][0]\n",
        "  w10 = wa[2][0][1]\n",
        "  w11 = wa[2][1][0]\n",
        "  w12 = wa[2][1][1]\n",
        "\n",
        "  b1 = ba[0][0]\n",
        "  b2 = ba[0][1]\n",
        "  b3 = ba[1][0]\n",
        "  b4 = ba[1][1]\n",
        "  b5 = ba[2][0]\n",
        "  b6 = ba[2][1]\n",
        "\n",
        "  x1 = xin[0]\n",
        "  x2 = xin[1]\n",
        "\n",
        "  h1 = w1*x1 + w2*x2 + b1\n",
        "  h2 = w3*x1 + w4*x2 + b2\n",
        "\n",
        "  h3 = w5*h1 + w6*h2 + b3\n",
        "  h4 = w7*h1 + w8*h2 + b4\n",
        "\n",
        "  h5 = w9*h3 + w10*h4 + b5\n",
        "  h6 = w11*h3 + w12*h4 + b6\n",
        "\n",
        "  y = 1.1*h5 + 0.9*h6\n",
        "  return y\n",
        "\n",
        " # Problem 6 \n",
        "def gradient_descent(n,x0,y0,r):\n",
        "\n",
        "  pd_x = 1/30*(6*(x0*x0)-36*x0+3*(y0+11))\n",
        "  pd_y = 1/30*(3*x0 - 6*y0 + 9)\n",
        "\n",
        "  grad_vect = [pd_x, pd_y]\n",
        "\n",
        "  for x in range(n):\n",
        "    x0 = x0 - (r*pd_x)\n",
        "    y0 = y0 - (r*pd_y)\n",
        "  \n",
        "  output = [x0,y0]\n",
        "  return output\n"
      ]
    }
  ]
}