{
  "nbformat": 4,
  "nbformat_minor": 0,
  "metadata": {
    "colab": {
      "name": "MLB_rankings.ipynb",
      "provenance": [],
      "collapsed_sections": [],
      "include_colab_link": true
    },
    "kernelspec": {
      "name": "python3",
      "display_name": "Python 3"
    },
    "language_info": {
      "name": "python"
    }
  },
  "cells": [
    {
      "cell_type": "markdown",
      "metadata": {
        "id": "view-in-github",
        "colab_type": "text"
      },
      "source": [
        "<a href=\"https://colab.research.google.com/github/pranavrajaram/datascience/blob/main/MLB_rankings.ipynb\" target=\"_parent\"><img src=\"https://colab.research.google.com/assets/colab-badge.svg\" alt=\"Open In Colab\"/></a>"
      ]
    },
    {
      "cell_type": "markdown",
      "source": [
        "# Predicting the MLB world Series\n",
        "The MLB is currently ongoing. The simplest way to predict a winner in the Fall, could be to check who is on top of the current standings. This, however, wouldn't take into account the strength of each team's schedule. We'll use the methods discussed in class instead. \n",
        "\n",
        "For this project, you are given a dataset containing all the games played this season through June. \n",
        "\n",
        "What you have to do:\n",
        "\n",
        "*   Practice manipulating the dataset using Pandas. Check the introductory notebook `intro_to_pandas,ipynb`\n",
        "*   Create the Massey matrix \n",
        "*   Solve the corresponding system to rank the teams using Massey's method \n",
        "*   Re-do the steps for the Colley method\n",
        "*   Discuss any differences in the results, and explain why that happened. \n",
        "*   Pick a winner!\n"
      ],
      "metadata": {
        "id": "7L_P8tNYkNRR"
      }
    },
    {
      "cell_type": "code",
      "execution_count": 59,
      "metadata": {
        "id": "Q1tgUhRoHXxW"
      },
      "outputs": [],
      "source": [
        "import pandas as pd\n",
        "import numpy as np\n",
        "\n",
        "url = 'https://raw.githubusercontent.com/RodericGuigoCorominas/datascience/main/datasets/mlb_june_2022.csv'\n",
        "df = pd.read_csv(url)\n"
      ]
    },
    {
      "cell_type": "code",
      "source": [
        "# the code snippet below may be useful\n",
        "all_teams = np.unique(df[['home','visitor']].to_numpy().flatten())\n",
        "num_teams = len(all_teams)\n",
        "\n",
        "print(\"There are\",num_teams,\"teams\")\n",
        "print(all_teams)"
      ],
      "metadata": {
        "id": "HHFHSZVdJpP7",
        "colab": {
          "base_uri": "https://localhost:8080/"
        },
        "outputId": "230be838-1e58-4209-fa99-5b773ccdafb8"
      },
      "execution_count": null,
      "outputs": [
        {
          "output_type": "stream",
          "name": "stdout",
          "text": [
            "There are 30 teams\n",
            "['Angels' 'Astros' 'Athletics' 'Blue Jays' 'Braves' 'Brewers' 'Cardinals'\n",
            " 'Cubs' 'Diamondbacks' 'Dodgers' 'Giants' 'Guardians' 'Mariners' 'Marlins'\n",
            " 'Mets' 'Nationals' 'Orioles' 'Padres' 'Phillies' 'Pirates' 'Rangers'\n",
            " 'Rays' 'Red Sox' 'Reds' 'Rockies' 'Royals' 'Tigers' 'Twins' 'White Sox'\n",
            " 'Yankees']\n"
          ]
        }
      ]
    },
    {
      "cell_type": "code",
      "source": [
        "# tip: it may be useful to use a dictionary to translate between teams and indices. This way, you can use the name of a team to represent the corresponding row or column\n",
        "teams_dict = dict(zip(all_teams, range(num_teams)))\n",
        "\n",
        "# 'Rangers' now corresponds to the index 20\n",
        "teams_dict['Rangers']"
      ],
      "metadata": {
        "colab": {
          "base_uri": "https://localhost:8080/"
        },
        "id": "Vl0ED4h8mIVM",
        "outputId": "34f7dc7b-b701-4bfc-d6e4-c3f580e18bf3"
      },
      "execution_count": null,
      "outputs": [
        {
          "output_type": "execute_result",
          "data": {
            "text/plain": [
              "20"
            ]
          },
          "metadata": {},
          "execution_count": 9
        }
      ]
    },
    {
      "cell_type": "code",
      "source": [
        "# your code...\n",
        "\n",
        "home_df = df.groupby(['home']).sum().reset_index()\n",
        "\n",
        "home_df.columns = ['team','home_pf','home_pa']\n",
        "\n",
        "away_df = df.groupby(['visitor']).sum().reset_index()\n",
        "\n",
        "away_df.columns = ['team','away_pa','away_pf']\n",
        "\n",
        "combined_df = pd.merge(home_df, away_df, on = [\"team\",\"team\"])\n",
        "\n",
        "combined_df['pf'] = combined_df['home_pf'] + combined_df['away_pf']\n",
        "combined_df['pa'] = combined_df['home_pa'] + combined_df['away_pa']\n",
        "final = combined_df[['team','pf','pa']]\n",
        "final['diff'] = final['pf'] - final['pa']\n",
        "\n",
        "#print(final)\n"
      ],
      "metadata": {
        "id": "h7pqt-a-nfUs",
        "outputId": "d288addc-1312-4aa4-c6cf-cb02d94fd271",
        "colab": {
          "base_uri": "https://localhost:8080/"
        }
      },
      "execution_count": 60,
      "outputs": [
        {
          "output_type": "stream",
          "name": "stderr",
          "text": [
            "/usr/local/lib/python3.7/dist-packages/ipykernel_launcher.py:16: SettingWithCopyWarning: \n",
            "A value is trying to be set on a copy of a slice from a DataFrame.\n",
            "Try using .loc[row_indexer,col_indexer] = value instead\n",
            "\n",
            "See the caveats in the documentation: https://pandas.pydata.org/pandas-docs/stable/user_guide/indexing.html#returning-a-view-versus-a-copy\n",
            "  app.launch_new_instance()\n"
          ]
        }
      ]
    }
  ]
}