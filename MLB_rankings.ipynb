{
  "nbformat": 4,
  "nbformat_minor": 0,
  "metadata": {
    "colab": {
      "name": "MLB_rankings.ipynb",
      "provenance": [],
      "collapsed_sections": [],
      "include_colab_link": true
    },
    "kernelspec": {
      "name": "python3",
      "display_name": "Python 3"
    },
    "language_info": {
      "name": "python"
    }
  },
  "cells": [
    {
      "cell_type": "markdown",
      "metadata": {
        "id": "view-in-github",
        "colab_type": "text"
      },
      "source": [
        "<a href=\"https://colab.research.google.com/github/pranavrajaram/datascience/blob/main/MLB_rankings.ipynb\" target=\"_parent\"><img src=\"https://colab.research.google.com/assets/colab-badge.svg\" alt=\"Open In Colab\"/></a>"
      ]
    },
    {
      "cell_type": "markdown",
      "source": [
        "# Predicting the MLB world Series\n",
        "The MLB is currently ongoing. The simplest way to predict a winner in the Fall, could be to check who is on top of the current standings. This, however, wouldn't take into account the strength of each team's schedule. We'll use the methods discussed in class instead. \n",
        "\n",
        "For this project, you are given a dataset containing all the games played this season through June. \n",
        "\n",
        "What you have to do:\n",
        "\n",
        "*   Practice manipulating the dataset using Pandas. Check the introductory notebook `intro_to_pandas,ipynb`\n",
        "*   Create the Massey matrix \n",
        "*   Solve the corresponding system to rank the teams using Massey's method \n",
        "*   Re-do the steps for the Colley method\n",
        "*   Discuss any differences in the results, and explain why that happened. \n",
        "*   Pick a winner!\n"
      ],
      "metadata": {
        "id": "7L_P8tNYkNRR"
      }
    },
    {
      "cell_type": "code",
      "execution_count": 67,
      "metadata": {
        "id": "Q1tgUhRoHXxW",
        "outputId": "ea303ac5-bf78-43aa-e4b1-cbdcd0e900c8",
        "colab": {
          "base_uri": "https://localhost:8080/"
        }
      },
      "outputs": [
        {
          "output_type": "stream",
          "name": "stdout",
          "text": [
            "             home    visitor  score home  score visitor\n",
            "0            Cubs    Brewers           5              4\n",
            "1          Royals  Guardians           3              1\n",
            "2       Cardinals    Pirates           9              0\n",
            "3       Nationals       Mets           1              5\n",
            "4          Braves       Reds           3              6\n",
            "..            ...        ...         ...            ...\n",
            "732       Rangers       Rays           3              0\n",
            "733          Cubs    Brewers           8              7\n",
            "734     Athletics     Astros           1              3\n",
            "735  Diamondbacks     Braves           8              7\n",
            "736       Dodgers    Pirates           3              5\n",
            "\n",
            "[737 rows x 4 columns]\n"
          ]
        }
      ],
      "source": [
        "import pandas as pd\n",
        "import numpy as np\n",
        "\n",
        "url = 'https://raw.githubusercontent.com/RodericGuigoCorominas/datascience/main/datasets/mlb_june_2022.csv'\n",
        "df = pd.read_csv(url)\n",
        "print(df)"
      ]
    },
    {
      "cell_type": "code",
      "source": [
        "# the code snippet below may be useful\n",
        "all_teams = np.unique(df[['home','visitor']].to_numpy().flatten())\n",
        "num_teams = len(all_teams)\n",
        "\n",
        "print(\"There are\",num_teams,\"teams\")\n",
        "print(all_teams)"
      ],
      "metadata": {
        "id": "HHFHSZVdJpP7",
        "colab": {
          "base_uri": "https://localhost:8080/"
        },
        "outputId": "e3ee6193-d039-4e1f-e896-d19ecc5866c5"
      },
      "execution_count": 69,
      "outputs": [
        {
          "output_type": "stream",
          "name": "stdout",
          "text": [
            "There are 30 teams\n",
            "['Angels' 'Astros' 'Athletics' 'Blue Jays' 'Braves' 'Brewers' 'Cardinals'\n",
            " 'Cubs' 'Diamondbacks' 'Dodgers' 'Giants' 'Guardians' 'Mariners' 'Marlins'\n",
            " 'Mets' 'Nationals' 'Orioles' 'Padres' 'Phillies' 'Pirates' 'Rangers'\n",
            " 'Rays' 'Red Sox' 'Reds' 'Rockies' 'Royals' 'Tigers' 'Twins' 'White Sox'\n",
            " 'Yankees']\n"
          ]
        }
      ]
    },
    {
      "cell_type": "code",
      "source": [
        "# tip: it may be useful to use a dictionary to translate between teams and indices. This way, you can use the name of a team to represent the corresponding row or column\n",
        "teams_dict = dict(zip(all_teams, range(num_teams)))\n",
        "\n",
        "# 'Rangers' now corresponds to the index 20\n",
        "teams_dict['Rangers']"
      ],
      "metadata": {
        "colab": {
          "base_uri": "https://localhost:8080/"
        },
        "id": "Vl0ED4h8mIVM",
        "outputId": "b7b386e3-86d4-422c-899e-1d1221ffd452"
      },
      "execution_count": 63,
      "outputs": [
        {
          "output_type": "execute_result",
          "data": {
            "text/plain": [
              "20"
            ]
          },
          "metadata": {},
          "execution_count": 63
        }
      ]
    },
    {
      "cell_type": "code",
      "source": [
        "# your code...\n",
        "\n",
        "home_games = df.groupby(['home']).count().reset_index()\n",
        "home_games.columns = ['team','home_games','a','b']\n",
        "home_games = home_games[['team','home_games']]\n",
        "\n",
        "away_games = df.groupby(['visitor']).count().reset_index()\n",
        "away_games.columns = ['team','away_games','a','b']\n",
        "away_games = away_games[['team','away_games']]\n",
        "\n",
        "combined_gp = pd.merge(home_games, away_games, on = [\"team\",\"team\"])\n",
        "combined_gp['total_gp'] = combined_gp['home_games'] + combined_gp['away_games']\n",
        "combined_gp = combined_gp[['team','total_gp']]\n",
        "\n",
        "\n",
        "home_df = df.groupby(['home']).sum().reset_index()\n",
        "\n",
        "home_df.columns = ['team','home_pf','home_pa']\n",
        "\n",
        "away_df = df.groupby(['visitor']).sum().reset_index()\n",
        "\n",
        "away_df.columns = ['team','away_pa','away_pf']\n",
        "\n",
        "combined_df = pd.merge(home_df, away_df, on = [\"team\",\"team\"])\n",
        "\n",
        "combined_df['pf'] = combined_df['home_pf'] + combined_df['away_pf']\n",
        "combined_df['pa'] = combined_df['home_pa'] + combined_df['away_pa']\n",
        "combined_df = combined_df[['team','pf','pa']]\n",
        "combined_df['diff'] = combined_df['pf'] - combined_df['pa']\n",
        "\n",
        "final = pd.merge(combined_gp, combined_df, on = ['team','team'])\n",
        "\n",
        "print(final)\n",
        "\n"
      ],
      "metadata": {
        "id": "h7pqt-a-nfUs",
        "outputId": "eea7b135-a101-48ca-d147-8b70839aeb84",
        "colab": {
          "base_uri": "https://localhost:8080/"
        }
      },
      "execution_count": 83,
      "outputs": [
        {
          "output_type": "stream",
          "name": "stdout",
          "text": [
            "            team  total_gp   pf   pa  diff\n",
            "0         Angels        50  236  202    34\n",
            "1         Astros        50  201  158    43\n",
            "2      Athletics        52  175  221   -46\n",
            "3      Blue Jays        48  191  191     0\n",
            "4         Braves        50  207  223   -16\n",
            "5        Brewers        51  235  196    39\n",
            "6      Cardinals        49  232  188    44\n",
            "7           Cubs        49  216  223    -7\n",
            "8   Diamondbacks        51  203  232   -29\n",
            "9        Dodgers        49  270  154   116\n",
            "10        Giants        48  244  222    22\n",
            "11     Guardians        45  208  189    19\n",
            "12      Mariners        49  201  210    -9\n",
            "13       Marlins        46  184  180     4\n",
            "14          Mets        51  266  194    72\n",
            "15     Nationals        51  206  277   -71\n",
            "16       Orioles        51  190  233   -43\n",
            "17        Padres        49  205  182    23\n",
            "18      Phillies        50  224  224     0\n",
            "19       Pirates        48  166  247   -81\n",
            "20       Rangers        48  211  198    13\n",
            "21          Rays        49  203  196     7\n",
            "22       Red Sox        50  235  219    16\n",
            "23          Reds        48  201  255   -54\n",
            "24       Rockies        48  223  260   -37\n",
            "25        Royals        48  182  255   -73\n",
            "26        Tigers        49  138  191   -53\n",
            "27         Twins        51  222  188    34\n",
            "28     White Sox        47  172  218   -46\n",
            "29       Yankees        49  229  150    79\n"
          ]
        }
      ]
    }
  ]
}