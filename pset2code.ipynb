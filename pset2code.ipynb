{
  "cells": [
    {
      "cell_type": "markdown",
      "metadata": {
        "id": "view-in-github",
        "colab_type": "text"
      },
      "source": [
        "<a href=\"https://colab.research.google.com/github/pranavrajaram/datascience/blob/main/pset2code.ipynb\" target=\"_parent\"><img src=\"https://colab.research.google.com/assets/colab-badge.svg\" alt=\"Open In Colab\"/></a>"
      ]
    },
    {
      "cell_type": "code",
      "execution_count": null,
      "metadata": {
        "colab": {
          "base_uri": "https://localhost:8080/"
        },
        "id": "pL1bk-6SfRcq",
        "outputId": "bbe6895b-bb14-4c4c-fae8-fabe08b59472"
      },
      "outputs": [
        {
          "data": {
            "text/plain": [
              "[4, 6]"
            ]
          },
          "execution_count": 1,
          "metadata": {},
          "output_type": "execute_result"
        }
      ],
      "source": [
        "# Problem 1a\n",
        "\n",
        "import numpy as np\n",
        "\n",
        "def matrix_vector(m,v):\n",
        "  output = np.dot(m,v)  \n",
        "  return output.tolist()\n",
        "\n",
        "matrix_vector([[1,3],[2,4]], [1,1])\n"
      ]
    },
    {
      "cell_type": "code",
      "execution_count": null,
      "metadata": {
        "colab": {
          "base_uri": "https://localhost:8080/"
        },
        "id": "6E4XjIXzqie5",
        "outputId": "0a562c10-87e3-4354-9fce-9b4774b1b7dd"
      },
      "outputs": [
        {
          "data": {
            "text/plain": [
              "[[7, 15], [10, 22]]"
            ]
          },
          "execution_count": 2,
          "metadata": {},
          "output_type": "execute_result"
        }
      ],
      "source": [
        "\n",
        "# Problem 1b \n",
        "\n",
        "def matrix_power(m,t):\n",
        "  output = np.linalg.matrix_power(m,t)\n",
        "  \n",
        "  return output.tolist()\n",
        "\n",
        "matrix_power([[1,3],[2,4]], 2)"
      ]
    },
    {
      "cell_type": "code",
      "execution_count": null,
      "metadata": {
        "colab": {
          "base_uri": "https://localhost:8080/"
        },
        "id": "J93hZuS03bmO",
        "outputId": "88c711c2-1bef-46d7-ee55-4d7f9b6ec55a"
      },
      "outputs": [
        {
          "data": {
            "text/plain": [
              "[-1087.558, -507.775]"
            ]
          },
          "execution_count": 3,
          "metadata": {},
          "output_type": "execute_result"
        }
      ],
      "source": [
        "# Problem 1c\n",
        "\n",
        "def discrete_ds(m,v,t):\n",
        "  temp = np.linalg.matrix_power(m,t)\n",
        "  output = np.matmul(temp, v)\n",
        "\n",
        "  return output.tolist()\n",
        "\n",
        "discrete_ds([[10,-3], [3,5]], [0.002,0.005], 6)\n"
      ]
    },
    {
      "cell_type": "code",
      "execution_count": null,
      "metadata": {
        "colab": {
          "base_uri": "https://localhost:8080/"
        },
        "id": "5go_FOFRzqYD",
        "outputId": "d796815d-bdc9-4799-cf0b-6a0c7cfe5a07"
      },
      "outputs": [
        {
          "data": {
            "text/plain": [
              "2"
            ]
          },
          "execution_count": 48,
          "metadata": {},
          "output_type": "execute_result"
        }
      ],
      "source": [
        "# Problem 2a\n",
        "\n",
        "def unique_char(s):\n",
        "\n",
        "  for i in s:\n",
        "      count = s.count(i)+1\n",
        "\n",
        "  return count\n",
        "\n",
        "\n",
        "unique_char(\"aabbccccdddabgd\")"
      ]
    },
    {
      "cell_type": "code",
      "execution_count": null,
      "metadata": {
        "colab": {
          "base_uri": "https://localhost:8080/"
        },
        "id": "c2Ytg1O01Z8R",
        "outputId": "9dad8fb0-05fc-42f7-aa36-66f1a9c263a2"
      },
      "outputs": [
        {
          "data": {
            "text/plain": [
              "5"
            ]
          },
          "execution_count": 51,
          "metadata": {},
          "output_type": "execute_result"
        }
      ],
      "source": [
        "# Problem 2b\n",
        "\n",
        "def words(s):\n",
        "  count = 1\n",
        "  for i in s:\n",
        "    if (i == \" \"):\n",
        "      count += 1\n",
        "\n",
        "  return count\n",
        "\n",
        "words(\"hello my name is pranav\")"
      ]
    },
    {
      "cell_type": "code",
      "execution_count": null,
      "metadata": {
        "colab": {
          "background_save": true
        },
        "id": "n2z3dYds3L-d",
        "outputId": "5e54086d-f53a-4d2a-db12-a1298d5a8f10"
      },
      "outputs": [
        {
          "data": {
            "text/plain": [
              "[0, 0, 0, 0, 0, 0, 0, 0, 0, 0, 0, 0, 0, 0, 0, 0, 0, 0, 0, 0, 0, 0, 0, 0, 0, 0]"
            ]
          },
          "execution_count": null,
          "metadata": {},
          "output_type": "execute_result"
        }
      ],
      "source": [
        "# Problem 2c \n",
        "\n",
        "def frequencies(s):\n",
        "\n",
        "  freq = [0]*26\n",
        "\n",
        "  for i in range(0,len(freq),1):\n",
        "    frequency = 0\n",
        "    for j in range(0,len(s),1):\n",
        "      char = s[j]\n",
        "      if (char == freq[i]):\n",
        "        freq[i] += 1\n",
        "\n",
        "  return freq\n",
        "\n",
        "frequencies(\"hello\")\n"
      ]
    }
  ],
  "metadata": {
    "colab": {
      "collapsed_sections": [],
      "name": "Untitled0.ipynb",
      "provenance": [],
      "authorship_tag": "ABX9TyO5/ZjSjVhr6gTwf290YP4+",
      "include_colab_link": true
    },
    "kernelspec": {
      "display_name": "Python 3",
      "name": "python3"
    },
    "language_info": {
      "name": "python"
    }
  },
  "nbformat": 4,
  "nbformat_minor": 0
}