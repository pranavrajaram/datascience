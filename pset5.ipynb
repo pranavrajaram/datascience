{
  "nbformat": 4,
  "nbformat_minor": 0,
  "metadata": {
    "colab": {
      "name": "pset5.ipynb",
      "provenance": [],
      "collapsed_sections": [],
      "authorship_tag": "ABX9TyPZb92EIqsrfA9C8kBJXg8y",
      "include_colab_link": true
    },
    "kernelspec": {
      "name": "python3",
      "display_name": "Python 3"
    },
    "language_info": {
      "name": "python"
    }
  },
  "cells": [
    {
      "cell_type": "markdown",
      "metadata": {
        "id": "view-in-github",
        "colab_type": "text"
      },
      "source": [
        "<a href=\"https://colab.research.google.com/github/pranavrajaram/datascience/blob/main/pset5.ipynb\" target=\"_parent\"><img src=\"https://colab.research.google.com/assets/colab-badge.svg\" alt=\"Open In Colab\"/></a>"
      ]
    },
    {
      "cell_type": "code",
      "execution_count": 43,
      "metadata": {
        "colab": {
          "base_uri": "https://localhost:8080/"
        },
        "id": "dlXYMJwym_1v",
        "outputId": "a2b614b6-b369-4ae4-f6f6-e279eb072764"
      },
      "outputs": [
        {
          "output_type": "execute_result",
          "data": {
            "text/plain": [
              "[1, 3, 5]"
            ]
          },
          "metadata": {},
          "execution_count": 43
        }
      ],
      "source": [
        "import numpy as np\n",
        "\n",
        "# Problem 3a\n",
        "def over_ten(a):\n",
        "  a = np.array(a)\n",
        "  over_ten = np.nonzero(a>=10)\n",
        "  over_ten = np.array(over_ten)\n",
        "  output = over_ten.tolist()\n",
        "  output = output[0]\n",
        "  return output\n",
        "\n",
        "# Problem 3b\n",
        "def ones(n):\n",
        "  output = np.ones((n,n))\n",
        "  output = np.array(output)\n",
        "  return output\n",
        "\n",
        "# Problem 3c\n",
        "def ones_zeros(n):\n",
        "  output = np.ones((n,n))\n",
        "  output[1:-1,1:-1] = 0\n",
        "  output = np.array(output)\n",
        "  return output\n",
        "\n",
        "# Problem 3d\n",
        "def mat_to_vect(m):\n",
        "  m = np.array(m)\n",
        "  rows,columns = m.shape\n",
        "  for i in range(rows):\n",
        "    return np.concatenate((m[i],m[i+1],m[i+2],m[i+3]))\n",
        "\n"
      ]
    }
  ]
}