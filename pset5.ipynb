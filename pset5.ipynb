{
  "nbformat": 4,
  "nbformat_minor": 0,
  "metadata": {
    "colab": {
      "name": "pset5.ipynb",
      "provenance": [],
      "collapsed_sections": [],
      "authorship_tag": "ABX9TyOF52VGg49+sAwS3DQBgTR/",
      "include_colab_link": true
    },
    "kernelspec": {
      "name": "python3",
      "display_name": "Python 3"
    },
    "language_info": {
      "name": "python"
    }
  },
  "cells": [
    {
      "cell_type": "markdown",
      "metadata": {
        "id": "view-in-github",
        "colab_type": "text"
      },
      "source": [
        "<a href=\"https://colab.research.google.com/github/pranavrajaram/datascience/blob/main/pset5.ipynb\" target=\"_parent\"><img src=\"https://colab.research.google.com/assets/colab-badge.svg\" alt=\"Open In Colab\"/></a>"
      ]
    },
    {
      "cell_type": "code",
      "execution_count": 8,
      "metadata": {
        "colab": {
          "base_uri": "https://localhost:8080/"
        },
        "id": "dlXYMJwym_1v",
        "outputId": "686b57fe-a6ff-4bc2-b350-7fd92649d979"
      },
      "outputs": [
        {
          "output_type": "execute_result",
          "data": {
            "text/plain": [
              "array([1, 2, 3, 4, 4, 5])"
            ]
          },
          "metadata": {},
          "execution_count": 8
        }
      ],
      "source": [
        "import numpy as np\n",
        "\n",
        "# Problem 3a\n",
        "\n",
        "def over_ten(a):\n",
        "  a = np.array(a)\n",
        "  over_ten = np.nonzero(a>=10)\n",
        "  over_ten = list(over_ten)\n",
        "  return over_ten\n",
        "\n",
        "over_ten(([[0, 10, 20], [20, 30, 40],[0,0,0]]))\n",
        "\n",
        "# Problem 3b\n",
        "def ones(n):\n",
        "  return np.ones((n,n)).tolist()\n",
        "\n",
        "ones(2)\n",
        "\n",
        "# Problem 3c\n",
        "def ones_zeroes(n):\n",
        "  output = np.ones((n,n))\n",
        "  output[1:-1,1:-1] = 0\n",
        "  return output.tolist()\n",
        "\n",
        "ones_zeroes(5)\n",
        "\n",
        "# Problem 3d\n",
        "def mat_to_vect(m):\n",
        "  m = np.array(m)\n",
        "  rows,columns = m.shape\n",
        "  for i in range(rows):\n",
        "    return np.concatenate((m[i],m[i+1],m[i+2]))\n",
        "\n",
        "mat_to_vect([[1,2],[3,4],[4,5]])"
      ]
    }
  ]
}