{
  "nbformat": 4,
  "nbformat_minor": 0,
  "metadata": {
    "colab": {
      "name": "pset4.ipynb",
      "provenance": [],
      "authorship_tag": "ABX9TyO+uU+wD4Sy6pKnIvi04G3H",
      "include_colab_link": true
    },
    "kernelspec": {
      "name": "python3",
      "display_name": "Python 3"
    },
    "language_info": {
      "name": "python"
    }
  },
  "cells": [
    {
      "cell_type": "markdown",
      "metadata": {
        "id": "view-in-github",
        "colab_type": "text"
      },
      "source": [
        "<a href=\"https://colab.research.google.com/github/pranavrajaram/datascience/blob/main/pset4.ipynb\" target=\"_parent\"><img src=\"https://colab.research.google.com/assets/colab-badge.svg\" alt=\"Open In Colab\"/></a>"
      ]
    },
    {
      "cell_type": "code",
      "execution_count": null,
      "metadata": {
        "colab": {
          "base_uri": "https://localhost:8080/",
          "height": 35
        },
        "id": "LxIKqSu9vGPn",
        "outputId": "dd5f749a-a3c4-4f39-84ae-67fe6b41c9ba"
      },
      "outputs": [
        {
          "output_type": "execute_result",
          "data": {
            "text/plain": [
              "'prime'"
            ],
            "application/vnd.google.colaboratory.intrinsic+json": {
              "type": "string"
            }
          },
          "metadata": {},
          "execution_count": 22
        }
      ],
      "source": [
        "import random as rd\n",
        "\n",
        "a = []\n",
        "def real_num_list(a):\n",
        "  for i in range(0,10):\n",
        "    a.append(i+1)\n",
        "  \n",
        "  return a\n",
        "\n",
        "real_num_list(a)\n",
        "\n",
        "b = []\n",
        "def real_half_list(a):\n",
        "  for i in range(0,20):\n",
        "    a.append((i+1)/2)\n",
        "  \n",
        "  return a\n",
        "\n",
        "real_half_list(b)\n",
        "\n",
        "c = []\n",
        "def rand_list(a):\n",
        "  for i in range(0,10):\n",
        "    a.append(rd.randint(0,9999))\n",
        "  \n",
        "  return a\n",
        "\n",
        "rand_list(c)\n",
        "\n",
        "def even_string(s):\n",
        "  d = []\n",
        "  for i in range(0,len(s),2):\n",
        "    d.append(s[i])\n",
        "  \n",
        "  return d\n",
        "  \n",
        "even_string(\"hello\")\n",
        "\n",
        "\n",
        "def palindrome(n):\n",
        "  n = str(n)\n",
        "  if n == n[::-1]:\n",
        "    return \"palindrome!\"\n",
        "  else:\n",
        "    return \"not palindrome\"\n",
        "\n",
        "palindrome(1231321)\n",
        "\n",
        "def isprime(n):\n",
        "  for i in range(2,n):\n",
        "    if (n%i == 0):\n",
        "      return \"not prime\"\n",
        "    else:\n",
        "      return \"prime\"\n",
        "\n",
        "isprime(7)\n"
      ]
    },
    {
      "cell_type": "code",
      "source": [
        "import numpy as np\n",
        "\n",
        "arr = np.array([[1,2,3],[4,5,6]])\n"
      ],
      "metadata": {
        "id": "oFsFoZpRvhBO",
        "colab": {
          "base_uri": "https://localhost:8080/"
        },
        "outputId": "1138418c-4f3e-4979-9842-f50e6939736d"
      },
      "execution_count": null,
      "outputs": [
        {
          "output_type": "execute_result",
          "data": {
            "text/plain": [
              "array([ 1,  2,  3,  4,  5,  6, 56,  7,  3,  4,  5,  6])"
            ]
          },
          "metadata": {},
          "execution_count": 36
        }
      ]
    }
  ]
}