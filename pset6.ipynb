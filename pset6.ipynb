{
  "nbformat": 4,
  "nbformat_minor": 0,
  "metadata": {
    "colab": {
      "name": "pset6.ipynb",
      "provenance": [],
      "authorship_tag": "ABX9TyM33s04jd7Q2OiBUMkS0oy7",
      "include_colab_link": true
    },
    "kernelspec": {
      "name": "python3",
      "display_name": "Python 3"
    },
    "language_info": {
      "name": "python"
    }
  },
  "cells": [
    {
      "cell_type": "markdown",
      "metadata": {
        "id": "view-in-github",
        "colab_type": "text"
      },
      "source": [
        "<a href=\"https://colab.research.google.com/github/pranavrajaram/datascience/blob/main/pset6.ipynb\" target=\"_parent\"><img src=\"https://colab.research.google.com/assets/colab-badge.svg\" alt=\"Open In Colab\"/></a>"
      ]
    },
    {
      "cell_type": "code",
      "execution_count": null,
      "metadata": {
        "colab": {
          "base_uri": "https://localhost:8080/"
        },
        "id": "WpVC_Op-C3YD",
        "outputId": "4275637e-cb8c-4df9-e6ec-9d2b6b1abbaf"
      },
      "outputs": [
        {
          "output_type": "execute_result",
          "data": {
            "text/plain": [
              "0.7548002573619441"
            ]
          },
          "metadata": {},
          "execution_count": 1
        }
      ],
      "source": [
        "import math\n",
        "\n",
        "# Problem 2a\n",
        "def paraboloid(x,y):\n",
        "  return (x*x)+(y*y)\n",
        "\n",
        "# Problem 2b\n",
        "def sigmoid(x):\n",
        "  return 1/(1+math.e**-x)\n",
        "\n",
        "# Problem 2c\n",
        "def relu(x):\n",
        "  if (x >= 0):\n",
        "    return x\n",
        "  else:\n",
        "    return 0\n",
        "\n",
        "# Problem 2d\n",
        "def neural_net_1(x1, x2):\n",
        "  h1 = 0.1*x1 + 0.1*x2\n",
        "  h2 = 0.5*x1 + 0.2*x2\n",
        "  y = 0.3*h1 + 0.7*h2\n",
        "\n",
        "  return y\n",
        "\n",
        "# Problem 2e\n",
        "def neural_net_2(x1,x2):\n",
        "  h1 = 0.1*x1 + 0.1*x2 + 1.5\n",
        "  h2 = 0.5*x1 + 0.2*x2 + 2.1\n",
        "  y = h1 + 0.7*h2\n",
        "  return y\n",
        "\n",
        "# Problem 2f\n",
        "def neural_net_3(x1,x2):\n",
        "  def sigmoid(x):\n",
        "    return 1/(1+math.e**-x)\n",
        "\n",
        "  def relu(x):\n",
        "    if (x >= 0):\n",
        "      return x\n",
        "    else:\n",
        "      return 0.1*x\n",
        "\n",
        "  sigX1 = sigmoid(x1)\n",
        "  sigX2 = sigmoid(x1)\n",
        "  reluX1 = relu(x1)\n",
        "  reluX2 = relu(x2)\n",
        "\n",
        "  h1 = 0.1*sigX1 + 0.1*sigX2 + 1.5\n",
        "  h2 = 0.5*reluX1 + 0.2*reluX2 + 2.1\n",
        "\n",
        "  y = h1 + 0.7*h2\n",
        "  return y\n",
        "\n",
        "sigmoid(1.12438)\n"
      ]
    }
  ]
}