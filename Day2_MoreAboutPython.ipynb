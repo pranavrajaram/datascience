{
  "nbformat": 4,
  "nbformat_minor": 0,
  "metadata": {
    "colab": {
      "name": "Day2_MoreAboutPython.ipynb",
      "provenance": [],
      "include_colab_link": true
    },
    "kernelspec": {
      "name": "python3",
      "display_name": "Python 3"
    },
    "language_info": {
      "name": "python"
    }
  },
  "cells": [
    {
      "cell_type": "markdown",
      "metadata": {
        "id": "view-in-github",
        "colab_type": "text"
      },
      "source": [
        "<a href=\"https://colab.research.google.com/github/pranavrajaram/datascience/blob/main/Day2_MoreAboutPython.ipynb\" target=\"_parent\"><img src=\"https://colab.research.google.com/assets/colab-badge.svg\" alt=\"Open In Colab\"/></a>"
      ]
    },
    {
      "cell_type": "markdown",
      "source": [
        "# Functions, loops, and more\n",
        "### Writing a Python program. First things to know:\n",
        "A program is a list of instructions. The instructions read line by line and executed. \n",
        "Indentation matters: instructions that are have to be indented \n",
        "We have differet \"types\" of instructions: arithmetic operations, assignations, input/output, loops, functions and many more. \n",
        "If you have any question, ask Google!"
      ],
      "metadata": {
        "id": "hGogxa8SSalE"
      }
    },
    {
      "cell_type": "code",
      "execution_count": 1,
      "metadata": {
        "id": "3LT-FQpESRjD",
        "outputId": "eead7982-8345-4d7b-af17-3afd1f1625b9",
        "colab": {
          "base_uri": "https://localhost:8080/"
        }
      },
      "outputs": [
        {
          "output_type": "stream",
          "name": "stdout",
          "text": [
            "Enter lower range: 2\n",
            "Enter upper range: 10\n",
            "2\n",
            "3\n",
            "5\n",
            "7\n"
          ]
        }
      ],
      "source": [
        "# this is an example of a Python program. It finds all the prime numbers in the input range. \n",
        "\n",
        "# Take input from the user and assign the value to variables\n",
        "lower = int(input(\"Enter lower range: \"))\n",
        "upper = int(input(\"Enter upper range: \"))\n",
        "\n",
        "# a for loop\n",
        "for num in range(lower, upper + 1):\n",
        "    \n",
        "    # a conditional expression, checks if the number num is greater than 1\n",
        "    if num > 1:\n",
        "    \n",
        "        # an initial assumption: it is prime\n",
        "        prime = True\n",
        "\n",
        "        # another for loop\n",
        "        for i in range(2, num):\n",
        "            \n",
        "            # another conditional to check if it has divisors\n",
        "            if (num % i) == 0:\n",
        "                prime = False\n",
        "\n",
        "                # a break\n",
        "                break\n",
        "\n",
        "        # another confitiona, to print the result if it is prime\n",
        "        if prime:\n",
        "            print(num)"
      ]
    },
    {
      "cell_type": "markdown",
      "source": [
        "### Functions\n",
        "A function is a block of code which only runs when it is called. You can pass data, known as parameters, into a function. A function can return data as a result. To define a new function, use `def`."
      ],
      "metadata": {
        "id": "_3if8KwQaQsD"
      }
    },
    {
      "cell_type": "code",
      "source": [
        "# this function is equivalent to f(z) = z^3\n",
        "def cube (z):\n",
        "    return z*z*z\n",
        "    \n",
        "# this function is equivalent to f(z) = 1/z\n",
        "def inverse (z):\n",
        "    return 1./z\n",
        "    \n",
        "# this function is equivalent to f(z) = z^2 + 2*z + 1\n",
        "def a_polynomial (z):\n",
        "    return z**2 + 2*z + 1"
      ],
      "metadata": {
        "id": "lOTlHEMkaHQA"
      },
      "execution_count": 2,
      "outputs": []
    },
    {
      "cell_type": "markdown",
      "source": [
        "Once defined, functions can be called any time. To call a function, the input has to be in brackets `()`."
      ],
      "metadata": {
        "id": "toEsvZRoayql"
      }
    },
    {
      "cell_type": "code",
      "source": [
        "# assign to a the value of 9\n",
        "a = 9\n",
        "#call the functions defined above with a as input\n",
        "print(cube(a), inverse(a), a_polynomial(a))"
      ],
      "metadata": {
        "id": "bGG8ABdKa2al",
        "outputId": "7eb4d4ca-c4ae-4ab0-d937-11fcca120f1e",
        "colab": {
          "base_uri": "https://localhost:8080/"
        }
      },
      "execution_count": 3,
      "outputs": [
        {
          "output_type": "stream",
          "name": "stdout",
          "text": [
            "729 0.1111111111111111 100\n"
          ]
        }
      ]
    },
    {
      "cell_type": "markdown",
      "source": [
        "Functions can have more than one argument:"
      ],
      "metadata": {
        "id": "CxKfv44RbFF8"
      }
    },
    {
      "cell_type": "code",
      "source": [
        "def average (z,w):\n",
        "    return (z+w)/2\n",
        "\n",
        "print(average(10, 50))"
      ],
      "metadata": {
        "id": "ujvBJdgOa6t6",
        "outputId": "7ba6c0df-6fe7-48bd-c9b2-e919b7d74c43",
        "colab": {
          "base_uri": "https://localhost:8080/"
        }
      },
      "execution_count": 4,
      "outputs": [
        {
          "output_type": "stream",
          "name": "stdout",
          "text": [
            "30.0\n"
          ]
        }
      ]
    },
    {
      "cell_type": "markdown",
      "source": [
        "### Loops\n",
        "#### The 'for' loop\n",
        "It is possible to repeat the same indented block a certain ammount of times by using the instruction `for`."
      ],
      "metadata": {
        "id": "DOtzpN8ibOvG"
      }
    },
    {
      "cell_type": "code",
      "source": [
        "# print all numbers from 0 to 9\n",
        "# this repeats the instruction \"print(i)\" 10 times, for values of i from 0 to 9. \n",
        "for i in range(10):\n",
        "       print(i)"
      ],
      "metadata": {
        "id": "x3CTZNQ3bOUR",
        "outputId": "0285e9c6-c89b-4f68-cbbe-c8927815e986",
        "colab": {
          "base_uri": "https://localhost:8080/"
        }
      },
      "execution_count": 5,
      "outputs": [
        {
          "output_type": "stream",
          "name": "stdout",
          "text": [
            "0\n",
            "1\n",
            "2\n",
            "3\n",
            "4\n",
            "5\n",
            "6\n",
            "7\n",
            "8\n",
            "9\n"
          ]
        }
      ]
    },
    {
      "cell_type": "code",
      "source": [
        "# add all numbers from 0 to 9\n",
        "sum = 0\n",
        "for i in range(10):\n",
        "    sum = sum + i\n",
        "print(sum)"
      ],
      "metadata": {
        "id": "4oo3DMmXbJRB",
        "outputId": "3d67a34a-597a-4e6e-96a7-39df5ab64461",
        "colab": {
          "base_uri": "https://localhost:8080/"
        }
      },
      "execution_count": 6,
      "outputs": [
        {
          "output_type": "stream",
          "name": "stdout",
          "text": [
            "45\n"
          ]
        }
      ]
    },
    {
      "cell_type": "code",
      "source": [
        "#Here 'a' takes values in the given list\n",
        "for a in [1, 2, 5, \"hi\", -1./9, False]:\n",
        "    print(\"This is an example\")\n",
        "    print(\"Now a has the value:\", a)"
      ],
      "metadata": {
        "id": "SbhwSi9Bb5Ge",
        "outputId": "467f26c7-b28d-490e-e546-5757d8ade051",
        "colab": {
          "base_uri": "https://localhost:8080/"
        }
      },
      "execution_count": 7,
      "outputs": [
        {
          "output_type": "stream",
          "name": "stdout",
          "text": [
            "This is an example\n",
            "Now a has the value: 1\n",
            "This is an example\n",
            "Now a has the value: 2\n",
            "This is an example\n",
            "Now a has the value: 5\n",
            "This is an example\n",
            "Now a has the value: hi\n",
            "This is an example\n",
            "Now a has the value: -0.1111111111111111\n",
            "This is an example\n",
            "Now a has the value: False\n"
          ]
        }
      ]
    },
    {
      "cell_type": "markdown",
      "source": [
        "### Conditional statements\n",
        "The conditional `if/else` checks if the given condition is true or false. If it is true, the indented block below is executed, if it is false, it is skipped."
      ],
      "metadata": {
        "id": "K5w8F0UQcFwT"
      }
    },
    {
      "cell_type": "code",
      "source": [
        "# read input \n",
        "a = input()\n",
        "\n",
        "# check if the condition is true, this will be printed\n",
        "if a == 3:\n",
        "    print(\"a is equal to 3\")\n",
        "\n",
        "# if it is false, then this will be printed\n",
        "else:\n",
        "    print(a, \"is not equal to 3\")"
      ],
      "metadata": {
        "id": "9ZlmqccAb_2N",
        "outputId": "b791ba41-4aab-4690-f9dd-989a7ab0edaa",
        "colab": {
          "base_uri": "https://localhost:8080/"
        }
      },
      "execution_count": 8,
      "outputs": [
        {
          "output_type": "stream",
          "name": "stdout",
          "text": [
            "7\n",
            "7 is not equal to 3\n"
          ]
        }
      ]
    },
    {
      "cell_type": "code",
      "source": [
        "a = 20\n",
        "\n",
        "# loop through all numbers from 1 to 10, \n",
        "for i in range(1,11):\n",
        "\n",
        "    # check if the remainder of 20 divided by that number is 0\n",
        "    if a%i == 0:\n",
        "\n",
        "        # in such case, print the number.\n",
        "        print(a, \"is divisible by\", i)"
      ],
      "metadata": {
        "id": "SxSyZhOscXtB",
        "outputId": "27ea304c-8656-49e4-d404-acc6a1f20175",
        "colab": {
          "base_uri": "https://localhost:8080/"
        }
      },
      "execution_count": 9,
      "outputs": [
        {
          "output_type": "stream",
          "name": "stdout",
          "text": [
            "20 is divisible by 1\n",
            "20 is divisible by 2\n",
            "20 is divisible by 4\n",
            "20 is divisible by 5\n",
            "20 is divisible by 10\n"
          ]
        }
      ]
    },
    {
      "cell_type": "markdown",
      "source": [
        "## Homework"
      ],
      "metadata": {
        "id": "fpzW44GrdhUk"
      }
    },
    {
      "cell_type": "code",
      "source": [
        "# Problem 5a\n",
        "\n",
        "myList = []\n",
        "\n",
        "lengthOfList = int(input(\"How long is your list? \"))\n",
        "\n",
        "for i in range (0, lengthOfList):\n",
        "  number = int(input(\"Enter a number: \"))\n",
        "  myList.append(number)\n",
        "\n",
        "print(myList)\n",
        "\n",
        "def average(a1):\n",
        "  sumOfList = 0\n",
        "  for i in a1:\n",
        "    sumOfList += i\n",
        "  \n",
        "  lengthOfList = 0\n",
        "  for j in a1:\n",
        "    lengthOfList += 1\n",
        "  \n",
        "  avg = sumOfList/lengthOfList\n",
        "  return avg\n",
        "\n",
        "print(\"The average is: \", average(myList))"
      ],
      "metadata": {
        "id": "rB2eUZSydjEZ",
        "outputId": "f50c06f6-313c-44de-f62c-23708bd05714",
        "colab": {
          "base_uri": "https://localhost:8080/"
        }
      },
      "execution_count": 13,
      "outputs": [
        {
          "output_type": "stream",
          "name": "stdout",
          "text": [
            "How long is your list? 10\n",
            "Enter a number: 2\n",
            "Enter a number: 3\n",
            "Enter a number: 9\n",
            "Enter a number: 8\n",
            "Enter a number: 4\n",
            "Enter a number: 5\n",
            "Enter a number: 2\n",
            "Enter a number: 0\n",
            "Enter a number: -4\n",
            "Enter a number: 7\n",
            "[2, 3, 9, 8, 4, 5, 2, 0, -4, 7]\n",
            "3.6\n"
          ]
        }
      ]
    },
    {
      "cell_type": "code",
      "source": [
        "# Use this cell for your code"
      ],
      "metadata": {
        "id": "BqJ6a2AGdzzg"
      },
      "execution_count": null,
      "outputs": []
    },
    {
      "cell_type": "code",
      "source": [
        "# Use this cell for your code"
      ],
      "metadata": {
        "id": "j9MBWd-edzQe"
      },
      "execution_count": null,
      "outputs": []
    }
  ]
}